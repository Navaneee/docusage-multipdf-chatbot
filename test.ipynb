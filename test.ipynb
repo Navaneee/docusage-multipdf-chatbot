{
 "cells": [
  {
   "cell_type": "code",
   "execution_count": 3,
   "id": "bf862691",
   "metadata": {},
   "outputs": [],
   "source": [
    "with open('processed_files.txt','r') as f:\n",
    "    processed_files_list=f.readlines()   #processed_files_list=list of \"filenames\".\n",
    "    f.close()\n"
   ]
  },
  {
   "cell_type": "code",
   "execution_count": 4,
   "id": "d0ed9b3a",
   "metadata": {},
   "outputs": [
    {
     "data": {
      "text/plain": [
       "['Motivation Letter geneva.pdf\\n', 'Motivation Letter.pdf\\n']"
      ]
     },
     "execution_count": 4,
     "metadata": {},
     "output_type": "execute_result"
    }
   ],
   "source": [
    "processed_files_list"
   ]
  },
  {
   "cell_type": "code",
   "execution_count": 5,
   "id": "cae1ccaa",
   "metadata": {},
   "outputs": [
    {
     "data": {
      "text/plain": [
       "['Motivation Letter geneva.pdf', 'Motivation Letter.pdf']"
      ]
     },
     "execution_count": 5,
     "metadata": {},
     "output_type": "execute_result"
    }
   ],
   "source": [
    "lst = []\n",
    "[i.rstrip() for i in processed_files_list]"
   ]
  },
  {
   "cell_type": "code",
   "execution_count": 6,
   "id": "526bfef0",
   "metadata": {},
   "outputs": [],
   "source": [
    "import os\n",
    "if not os.path.exists('processed_files.txt'):\n",
    "    open('processed_files.txt','x')"
   ]
  },
  {
   "cell_type": "code",
   "execution_count": 7,
   "id": "049a51cd",
   "metadata": {},
   "outputs": [
    {
     "data": {
      "text/plain": [
       "'c:\\\\Users\\\\kjnav\\\\Documents\\\\Navaneee\\\\chatbot'"
      ]
     },
     "execution_count": 7,
     "metadata": {},
     "output_type": "execute_result"
    }
   ],
   "source": [
    "os.getcwd()"
   ]
  },
  {
   "cell_type": "code",
   "execution_count": null,
   "id": "fe633a6c",
   "metadata": {},
   "outputs": [
    {
     "ename": "OSError",
     "evalue": "[WinError 6] The handle is invalid",
     "output_type": "error",
     "traceback": [
      "\u001b[31m---------------------------------------------------------------------------\u001b[39m",
      "\u001b[31mOSError\u001b[39m                                   Traceback (most recent call last)",
      "\u001b[36mCell\u001b[39m\u001b[36m \u001b[39m\u001b[32mIn[8]\u001b[39m\u001b[32m, line 1\u001b[39m\n\u001b[32m----> \u001b[39m\u001b[32m1\u001b[39m \u001b[43mos\u001b[49m\u001b[43m.\u001b[49m\u001b[43mget_terminal_size\u001b[49m\u001b[43m(\u001b[49m\u001b[43m)\u001b[49m\n",
      "\u001b[31mOSError\u001b[39m: [WinError 6] The handle is invalid"
     ]
    }
   ],
   "source": [
    "os.makedirs()"
   ]
  },
  {
   "cell_type": "code",
   "execution_count": 9,
   "id": "888220e3",
   "metadata": {},
   "outputs": [
    {
     "data": {
      "text/plain": [
       "'c:\\\\Users\\\\kjnav\\\\Documents\\\\Navaneee\\\\chatbot\\\\processed_files.txt'"
      ]
     },
     "execution_count": 9,
     "metadata": {},
     "output_type": "execute_result"
    }
   ],
   "source": [
    "os.path.abspath(\"processed_files.txt\")"
   ]
  },
  {
   "cell_type": "code",
   "execution_count": null,
   "id": "5968b8b7",
   "metadata": {},
   "outputs": [],
   "source": []
  }
 ],
 "metadata": {
  "kernelspec": {
   "display_name": "jwala",
   "language": "python",
   "name": "python3"
  },
  "language_info": {
   "codemirror_mode": {
    "name": "ipython",
    "version": 3
   },
   "file_extension": ".py",
   "mimetype": "text/x-python",
   "name": "python",
   "nbconvert_exporter": "python",
   "pygments_lexer": "ipython3",
   "version": "3.11.11"
  }
 },
 "nbformat": 4,
 "nbformat_minor": 5
}
